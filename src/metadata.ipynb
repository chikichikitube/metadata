{
 "cells": [
  {
   "cell_type": "code",
   "execution_count": null,
   "id": "9a328afc-460d-4873-abf7-819ba4ca7bf6",
   "metadata": {},
   "outputs": [],
   "source": [
    "import numpy as np\n",
    "import urllib\n",
    "import os\n",
    "import json\n",
    "from datetime import datetime\n",
    "from bs4 import BeautifulSoup\n",
    "import requests\n",
    "import pandas as pd\n",
    "from sqlalchemy import create_engine \n",
    "pd.set_option('max_colwidth', 50)"
   ]
  },
  {
   "attachments": {},
   "cell_type": "markdown",
   "id": "3be61cbe-d67c-41ec-9b1f-d593203f028c",
   "metadata": {},
   "source": [
    "### GAKI NO TSUKAI"
   ]
  },
  {
   "cell_type": "markdown",
   "id": "c0208a81-2ba1-45ec-9553-cd86cb2d03cf",
   "metadata": {},
   "source": [
    "#### NTV"
   ]
  },
  {
   "cell_type": "code",
   "execution_count": null,
   "id": "010f261a-fb23-42c6-8a4e-d329f21ad77a",
   "metadata": {},
   "outputs": [],
   "source": [
    "import requests\n",
    "from bs4 import BeautifulSoup\n",
    "\n",
    "episode_gaki_ntv_array = []\n",
    "\n",
    "for year in [2010,2011,2012,2013,2014,2015,2016,2017,2018,2019,2020,2021,2022]:\n",
    "    print(year)\n",
    "    url = \"https://www.ntv.co.jp/gaki/r_backnumber/\"+str(year)+\".html\"\n",
    "    html = requests.get(url).content\n",
    "    data = BeautifulSoup(html, 'html.parser')\n",
    "\n",
    "\n",
    "    greplist = data.find_all(\"ul\", {\"class\": \"oa-txt-lists\"} )\n",
    "    for entry in reversed(greplist):\n",
    "        grepentry = entry.find_all(\"li\")\n",
    "        for episode in reversed(grepentry):\n",
    "            episode_gaki_ntv_array.append([str(year),episode.find(\"h3\").text, episode.find(\"div\").text])\n",
    "            \n",
    "url = \"https://www.ntv.co.jp/gaki/r_backnumber/index.html\"\n",
    "html = requests.get(url).content\n",
    "data = BeautifulSoup(html, 'html.parser')\n",
    "\n",
    "\n",
    "greplist = data.find_all(\"ul\", {\"class\": \"oa-txt-lists\"} )\n",
    "for entry in reversed(greplist):\n",
    "    grepentry = entry.find_all(\"li\")\n",
    "    for episode in reversed(grepentry):\n",
    "        episode_gaki_ntv_array.append(['2023',episode.find(\"h3\").text, episode.find(\"div\").text])\n",
    "print('2023')\n",
    "\n",
    "episode_gaki_ntv = pd.DataFrame(episode_gaki_ntv_array, columns=['year','date_ja', 'description_ja']).replace(r'\\n',' ', regex=True).replace(r'ガキの使い特別版!大喜利大合戦スペシャル! ','', regex=True)\n",
    "episode_gaki_ntv['month_ja'] = episode_gaki_ntv['date_ja'].str.split('月|日|放',expand=True)[0]\n",
    "episode_gaki_ntv['day_ja'] = episode_gaki_ntv['date_ja'].str.split('月|日|放',expand=True)[1]\n",
    "episode_gaki_ntv['broadcast_type'] = episode_gaki_ntv['date_ja'].str.split('日',expand=True)[1]\n",
    "episode_gaki_ntv['date'] = pd.to_datetime(episode_gaki_ntv['year'] + '-' + episode_gaki_ntv['month_ja']  + '-' +  episode_gaki_ntv['day_ja']).dt.strftime('%Y-%m-%d')\n",
    "episode_gaki_ntv['description_ja'] = episode_gaki_ntv['description_ja'].str.strip()\n",
    "print(episode_gaki_ntv['broadcast_type'].unique())\n",
    "episode_gaki_ntv = episode_gaki_ntv[['date','description_ja']]\n",
    "episode_gaki_ntv['dupe_number'] = episode_gaki_ntv.groupby(['date']).cumcount()+1\n",
    "episode_gaki_ntv['day_order'] = episode_gaki_ntv['date'] + '-' + episode_gaki_ntv['dupe_number'].astype('str')\n",
    "episode_gaki_ntv.to_csv('metadata_gakinotsukai_ntv.csv',index = False)\n",
    "episode_gaki_ntv"
   ]
  },
  {
   "cell_type": "code",
   "execution_count": null,
   "id": "851959a0-e7ac-4d07-82a1-d8ebf34e0187",
   "metadata": {},
   "outputs": [],
   "source": [
    "episode_gaki_ntv_dupe = episode_gaki_ntv[episode_gaki_ntv['date'].duplicated(keep=False)].sort_values(\"date\")\n",
    "#episode_gaki_ntv_dupe.to_csv('dupe_gaki_ntv.csv')\n",
    "episode_gaki_ntv_dupe"
   ]
  },
  {
   "cell_type": "code",
   "execution_count": null,
   "id": "7db76f94-4f16-441d-9085-eaf4be906870",
   "metadata": {},
   "outputs": [],
   "source": [
    "episode_gaki_ntv[episode_gaki_ntv['date'].duplicated(keep=False)].sort_values(\"date\")"
   ]
  },
  {
   "cell_type": "markdown",
   "id": "45fbca9c-11ab-4768-a915-602df5fd69e0",
   "metadata": {},
   "source": [
    "#### Ghia"
   ]
  },
  {
   "cell_type": "code",
   "execution_count": null,
   "id": "9b6ba3ca-cc82-4a5f-9bc1-80c45a36eb83",
   "metadata": {},
   "outputs": [],
   "source": [
    "episode_gaki_ghia = pd.read_csv('metadata_gakinotsukai_ghia.csv',index_col=[0])\n",
    "episode_gaki_ghia.rename(columns={'opening_ja':'opening'}, inplace=True)\n",
    "episode_gaki_ghia['dupe_number'] = episode_gaki_ghia['dupe_number'].fillna(1).astype('int')\n",
    "episode_gaki_ghia['day_order'] = episode_gaki_ghia['date'].astype('str') + '-' + episode_gaki_ghia['dupe_number'].astype('str')\n",
    "\n",
    "# episode_gaki_ghia.loc[episode_gaki_ghia['episode'].isna(),'episode'] = '-'\n",
    "# #episode_gaki_ghia['dupe_number'] = episode_gaki_ghia.groupby(['date']).cumcount()+1\n",
    "# episode_gaki_ghia['day_order'] = episode_gaki_ghia['date'] + '-' + episode_gaki_ghia['dupe_number'].astype('str')\n",
    "#episode_gaki_ghia.to_csv('metadata_gakinotsukai_ghia.csv')\n",
    "episode_gaki_ghia.head()"
   ]
  },
  {
   "cell_type": "code",
   "execution_count": null,
   "id": "67c5cd0a-e024-4a41-9cab-0f096fedd51f",
   "metadata": {},
   "outputs": [],
   "source": [
    "episode_gaki_ghia_dupe = episode_gaki_ghia[episode_gaki_ghia['date'].duplicated(keep=False)].sort_values(\"date\")\n",
    "#episode_gaki_ghia_dupe.to_csv('dupe_gaki_ghia.csv')\n",
    "episode_gaki_ghia_dupe"
   ]
  },
  {
   "cell_type": "code",
   "execution_count": null,
   "id": "743e115b-767c-4689-b6fa-8d23a4c9ab58",
   "metadata": {},
   "outputs": [],
   "source": [
    "episode_gaki_ntv"
   ]
  },
  {
   "cell_type": "code",
   "execution_count": null,
   "id": "883be3b1-0fb1-4741-bb7c-bfcacef4aa5d",
   "metadata": {},
   "outputs": [],
   "source": [
    "metadata_gakinotsukai = episode_gaki_ghia.merge(episode_gaki_ntv, how='left', on='day_order')\n",
    "metadata_gakinotsukai.rename(columns={'date_x':'date'},inplace=True)\n",
    "# metadata_gakinotsukai['opening'] = metadata_gakinotsukai['metadata']\n",
    "#metadata_gakinotsukai['metadata']= 'Opening: '+metadata_gakinotsukai['metadata']\n",
    "metadata_gakinotsukai.loc[metadata_gakinotsukai['episode'] == '-','episode'] = 'SP'\n",
    "metadata_gakinotsukai.loc[metadata_gakinotsukai['episode'].isna(),'episode'] = 'SP'\n",
    "metadata_gakinotsukai.loc[metadata_gakinotsukai['name_ja'].str.contains('カウントダウンSP'),'drop' ] = True\n",
    "metadata_gakinotsukai = metadata_gakinotsukai.loc[metadata_gakinotsukai['drop'].isna()]\n",
    "metadata_gakinotsukai['show_id'] = 'gakinotsukai'\n",
    "metadata_gakinotsukai['show'] = 'GAKI NO TSUKAI'\n",
    "metadata_gakinotsukai['show_ja'] = 'ダウンタウンのガキの使いやあらへんで!!'\n",
    "metadata_gakinotsukai['description_ja'] = metadata_gakinotsukai['description_ja'].fillna(metadata_gakinotsukai['opening'])\n",
    "metadata_gakinotsukai.drop(columns=['date_y','dupe_number_y','dupe_number_x','drop'],inplace=True)\n",
    "metadata_gakinotsukai.to_csv('metadata_gakinotsukai.csv',index = False)\n",
    "metadata_gakinotsukai"
   ]
  },
  {
   "cell_type": "markdown",
   "id": "dcc69eea",
   "metadata": {},
   "source": [
    "### SUBERANAI HANASHI"
   ]
  },
  {
   "cell_type": "code",
   "execution_count": null,
   "id": "5b7bf242",
   "metadata": {},
   "outputs": [],
   "source": [
    "url = \"https://www.fujitv.co.jp/suberanai/\"\n",
    "html = requests.get(url).content\n",
    "data = BeautifulSoup(html, 'html.parser')\n",
    "greplist = data.find_all(\"dl\")\n",
    "\n",
    "episode_suberanai_hanashi_array = []\n",
    "for episode in reversed(greplist):\n",
    "  dt = str(episode.find_all(\"dt\")[0])[8:19].replace('年','-').replace('月','-').replace('日','').replace('（\t','').replace('（','').replace('(','').strip()\n",
    "  #print(dt)\n",
    "  dt = datetime.strptime(dt, '%Y-%m-%d')\n",
    "  dd = episode.find_all(\"dd\")[0]\n",
    "  text = dd.get_text()\n",
    "  # break into lines and remove leading and trailing space on each\n",
    "  lines = (line.strip() for line in text.splitlines())\n",
    "  # break multi-headlines into a line each\n",
    "  chunks = (phrase.strip() for line in lines for phrase in line.split(\"  \"))\n",
    "  # drop blank lines\n",
    "  text = '\\n'.join(chunk for chunk in chunks if chunk)\n",
    "  episode_suberanai_hanashi_array.append([dt,text])\n",
    "  #print(text)\n",
    "metadata_suberanaihanashi = pd.DataFrame(episode_suberanai_hanashi_array, columns=['date','description_ja']).sort_values('date')\n",
    "metadata_suberanaihanashi['episode'] = metadata_suberanaihanashi.index + 1\n",
    "metadata_suberanaihanashi['segment'] = 0\n",
    "metadata_suberanaihanashi['show_id'] = 'suberanaihanashi'\n",
    "metadata_suberanaihanashi['show_ja'] = '松本人志のすべらない話'\n",
    "metadata_suberanaihanashi['show'] = 'SUBERANAI HANASHI'\n",
    "metadata_suberanaihanashi.to_csv('metadata_suberanaihanashi.csv')\n",
    "metadata_suberanaihanashi"
   ]
  },
  {
   "attachments": {},
   "cell_type": "markdown",
   "id": "16369052-e392-43ac-9060-2d48e065e8e8",
   "metadata": {},
   "source": [
    "### KNIGHT SCOOP"
   ]
  },
  {
   "cell_type": "code",
   "execution_count": null,
   "id": "e312fbfe-c1a7-400f-99b9-e32ec7b263e4",
   "metadata": {},
   "outputs": [],
   "source": [
    "url = urllib.request.urlopen(\"https://knightscoop.yabai.moe/data/seasons/all.json\")\n",
    "data = json.loads(url.read().decode())\n",
    "rebuild_of_knightscoop = []\n",
    "\n",
    "for year in data['seasons']:\n",
    "    for episode in year['episodes']:\n",
    "        for count, segment in enumerate(episode['segments']):\n",
    "            segment['order'] = '#' + str(count+1)\n",
    "            segment['episode'] = episode\n",
    "            rebuild_of_knightscoop.append(segment)\n",
    "\n",
    "metadata_knightscoop = pd.json_normalize(rebuild_of_knightscoop)\n",
    "metadata_knightscoop['segmentid'] = metadata_knightscoop['episode.date']+ ' - ' + metadata_knightscoop['order'] \n",
    "metadata_knightscoop.drop(columns=['episode.segments'], inplace=True)\n",
    "\n",
    "metadata_knightscoop.rename(columns={'episode.host':'knightscoop_host', 'detective':'knightscoop_detective','location':'knightscoop_location'}, inplace=True)\n",
    "\n",
    "metadata_knightscoop.loc[metadata_knightscoop['knightscoop_host'].notnull(),'metadata'] = 'ホスト:' + metadata_knightscoop['knightscoop_host'].mask(pd.isnull, '-') + ', 探偵: ' + metadata_knightscoop['knightscoop_detective'].mask(pd.isnull, '-') + ', 位置: ' + metadata_knightscoop['knightscoop_location'].mask(pd.isnull, '-')\n",
    "\n",
    "metadata_knightscoop['segment'] = metadata_knightscoop['order'].str[1:].astype(int)\n",
    "metadata_knightscoop['show_id'] = 'knightscoop'\n",
    "metadata_knightscoop['show_ja'] = '探偵!ナイトスクープ'\n",
    "\n",
    "metadata_knightscoop['show'] = 'KNIGHT SCOOP'\n",
    "\n",
    "\n",
    "metadata_knightscoop.rename(columns={'episode.date':'date','episode.number':'episode','topic.jp':'name_ja'}, inplace=True)\n",
    "metadata_knightscoop['episode'] =pd.factorize(metadata_knightscoop['date'].tolist())[0] +1\n",
    "\n",
    "metadata_knightscoop = metadata_knightscoop[['show_id','show','show_ja','date','episode','segment','name_ja','metadata','knightscoop_host','knightscoop_detective','knightscoop_location']]\n",
    "\n",
    "metadata_knightscoop.to_csv('metadata_knightscoop.csv',index = False)\n",
    "\n",
    "metadata_knightscoop.head()"
   ]
  },
  {
   "cell_type": "markdown",
   "id": "6966c16b-43a4-4f47-8d85-8a87e24d870d",
   "metadata": {},
   "source": [
    "### VISUALBUM"
   ]
  },
  {
   "cell_type": "code",
   "execution_count": null,
   "id": "91fd256f-55fa-4ea2-b637-008aa370db2c",
   "metadata": {},
   "outputs": [],
   "source": [
    "metadata_visualbum = pd.read_csv('metadata_visualbum.csv',encoding='utf-8')\n",
    "metadata_visualbum['segment'] = metadata_visualbum['segment'].astype('int')\n",
    "\n",
    "metadata_visualbum['show_id'] = 'visualbum'\n",
    "metadata_visualbum['show'] = 'VISUALBUM'\n",
    "metadata_visualbum['show_ja']= 'VISUALBUM'\n",
    "metadata_visualbum"
   ]
  },
  {
   "cell_type": "markdown",
   "id": "6304a85d-2ced-424e-be4a-9611e6d754f0",
   "metadata": {},
   "source": [
    "### MHK"
   ]
  },
  {
   "cell_type": "code",
   "execution_count": null,
   "id": "3027ec3f-bfb4-46de-8891-4abf54489b98",
   "metadata": {},
   "outputs": [],
   "source": [
    "metadata_mhk = pd.read_csv('metadata_mhk.csv',encoding='utf-8')\n",
    "metadata_mhk['segment'] = metadata_mhk['segment'].astype('int')\n",
    "\n",
    "metadata_mhk['show_id'] = 'mhk'\n",
    "metadata_mhk['show'] = 'MHK'\n",
    "metadata_mhk['show_ja']= '松本一志のコント'\n",
    "metadata_mhk.drop(columns=['disc','chapter','name_en'],inplace=True)\n",
    "metadata_mhk"
   ]
  },
  {
   "cell_type": "markdown",
   "id": "75f4aaeb-9658-454f-8ca7-a354ef99473a",
   "metadata": {},
   "source": [
    "### FREEZE"
   ]
  },
  {
   "cell_type": "code",
   "execution_count": null,
   "id": "02e5c2b7-5a23-4dfe-822f-8c28ed90c384",
   "metadata": {},
   "outputs": [],
   "source": [
    "# freeze_array = []\n",
    "\n",
    "# urls = [\"https://www.amazon.co.jp/-/en/gp/video/detail/B07GJ93C23/ref=atv_dp_season_select_s1?language=en\",\n",
    "#         \"https://www.amazon.co.jp/-/en/gp/video/detail/B06ZYK4X61/ref=atv_dp_season_select_s2?language=en\"]\n",
    "\n",
    "# c = 1\n",
    "# time.sleep(3)\n",
    "# print(url)\n",
    "# html = requests.get(\"https://www.amazon.co.jp/-/en/gp/video/detail/B07GJ93C23/ref=atv_dp_season_select_s1?language=en\").content\n",
    "# data = BeautifulSoup(html, 'html.parser')\n",
    "# greplist = data.find_all(\"ol\")[0]\n",
    "# greplistitem = greplist.find_all(\"li\")\n",
    "\n",
    "# for episode in greplistitem:\n",
    "#     name = episode.find_all(\"span\",attrs={\"dir\":\"auto\"})[0].text\n",
    "    \n",
    "#     description = episode.find_all(\"div\",attrs={\"dir\":\"auto\"})[1].text\n",
    "    \n",
    "#     metadata = episode.find_all(\"div\",attrs={\"class\":\"_3rBDNv _1AeKJC\"})[0]\n",
    "#     metadata_field = metadata.find_all(\"div\")\n",
    "#     date = metadata_field[0].text\n",
    "#     duration = metadata_field[1].text\n",
    "    \n",
    "#     freeze_array.append([date, name, description, c])\n",
    "\n",
    "# c = 2\n",
    "# time.sleep(3)\n",
    "# print(url)\n",
    "# html = requests.get(\"https://www.amazon.co.jp/-/en/gp/video/detail/B06ZYK4X61/ref=atv_dp_season_select_s2?language=en\").content\n",
    "# data = BeautifulSoup(html, 'html.parser')\n",
    "\n",
    "# greplist = data.find_all(\"ol\")[0]\n",
    "# greplistitem = greplist.find_all(\"li\")\n",
    "\n",
    "# for episode in greplistitem:\n",
    "#     name = episode.find_all(\"span\",attrs={\"dir\":\"auto\"})[0].text\n",
    "\n",
    "#     description = episode.find_all(\"div\",attrs={\"dir\":\"auto\"})[2].text\n",
    "\n",
    "#     metadata = episode.find_all(\"div\",attrs={\"class\":\"_3rBDNv _1AeKJC\"})[0]\n",
    "#     metadata_field = metadata.find_all(\"div\")\n",
    "#     date = metadata_field[0].text\n",
    "#     duration = metadata_field[1].text\n",
    "\n",
    "#     freeze_array.append([date, name, description, c])\n",
    "\n",
    "# metadata_freeze = pd.DataFrame(freeze_array[::1], columns=['date','name', 'description_ja','season']).replace(r'\\n',' ', regex=True)\n",
    "\n",
    "\n",
    "metadata_freeze= pd.read_csv('metadata_freeze.csv')\n",
    "metadata_freeze['name'] = metadata_freeze['name']\n",
    "metadata_freeze['episode'] = 'S0' + metadata_freeze['season'].astype('str') + 'E0' + metadata_freeze['name'].str[1]\n",
    "metadata_freeze['date'] = pd.to_datetime(metadata_freeze['date']).dt.strftime('%Y-%m-%d')\n",
    "metadata_freeze['show_id'] = 'freeze'\n",
    "metadata_freeze['show'] = 'FREEZE'\n",
    "metadata_freeze['show_ja'] = 'FREEZE'\n",
    "\n",
    "# metadata_freeze.to_csv('metadata_freeze.csv')\n",
    "metadata_freeze"
   ]
  },
  {
   "cell_type": "markdown",
   "id": "a2f486f0-88f7-4afa-aaa7-b40259db9a06",
   "metadata": {},
   "source": [
    "### DOCUMENTARY OF DOCUMENTAL"
   ]
  },
  {
   "cell_type": "code",
   "execution_count": null,
   "id": "3615f0ca-daa0-419e-bab3-cff9d3b9ee7f",
   "metadata": {},
   "outputs": [],
   "source": [
    "# documentaryofdocumental_array = []\n",
    "\n",
    "# urls = [\"https://www.amazon.co.jp/-/en/gp/video/detail/B077BHTVCX/ref=atv_dp_season_select_s1?language=en\",\n",
    "#       \"https://www.amazon.co.jp/-/en/dp/B08H5TFTBZ/ref=sr_1_2?crid=ASWOAJ4YSJ6&keywords=documentary+of+documental&qid=1660492151&s=instant-video&sprefix=documentary+of+document%2Cinstant-video%2C196&sr=1-2\"]\n",
    "\n",
    "# c = 0\n",
    "# for url in urls:\n",
    "#     c = c+1\n",
    "#     time.sleep(3)\n",
    "#     print(url)\n",
    "#     html = requests.get(url).content\n",
    "#     data = BeautifulSoup(html, 'html.parser')\n",
    "\n",
    "#     greplist = data.find_all(\"ol\")[0]\n",
    "#     greplistitem = greplist.find_all(\"li\")\n",
    "\n",
    "#     for episode in greplistitem:\n",
    "#         name = episode.find_all(\"span\",attrs={\"dir\":\"auto\"})[0].text\n",
    "        \n",
    "#         description = episode.find_all(\"div\",attrs={\"dir\":\"auto\"})[1].text\n",
    "        \n",
    "#         metadata = episode.find_all(\"div\",attrs={\"class\":\"_3rBDNv _1AeKJC\"})[0]\n",
    "#         metadata_field = metadata.find_all(\"div\")\n",
    "#         date = metadata_field[0].text\n",
    "#         duration = metadata_field[1].text\n",
    "        \n",
    "#         documentaryofdocumental_array.append([date, name, description, c])\n",
    "\n",
    "# metadata_documentaryofdocumental = pd.DataFrame(documentaryofdocumental_array[::1], columns=['date','name', 'description_ja','season']).replace(r'\\n',' ', regex=True)"
   ]
  },
  {
   "cell_type": "code",
   "execution_count": null,
   "id": "c47434e3-5e39-4e01-9be6-08ed6cce9169",
   "metadata": {},
   "outputs": [],
   "source": [
    "metadata_documentaryofdocumental = pd.read_csv('metadata_documentaryofdocumental.csv',index_col=[0])\n",
    "metadata_documentaryofdocumental['name'] = metadata_documentaryofdocumental['name']\n",
    "metadata_documentaryofdocumental['episode'] = 'S0' + metadata_documentaryofdocumental['season'].astype('str') + 'E0' + metadata_documentaryofdocumental['name'].str[1]\n",
    "metadata_documentaryofdocumental['episode'] = metadata_documentaryofdocumental['episode'].str.replace('S010','S10')\n",
    "metadata_documentaryofdocumental['date'] = pd.to_datetime(metadata_documentaryofdocumental['date']).dt.strftime('%Y-%m-%d')\n",
    "metadata_documentaryofdocumental['show_id'] = 'documentaryofdocumental'\n",
    "metadata_documentaryofdocumental['show'] = 'DOCUMENTARY OF DOCUMENTAL'\n",
    "metadata_documentaryofdocumental['show_ja'] = 'DOCUMENTARY OF DOCUMENTAL'\n",
    "\n",
    "#metadata_documentaryofdocumental.to_csv('metadata_documentaryofdocumental.csv')\n",
    "metadata_documentaryofdocumental"
   ]
  },
  {
   "cell_type": "markdown",
   "id": "75bc2570-350e-4cee-8d78-2f600769b3a9",
   "metadata": {},
   "source": [
    "### IKEMENTAL"
   ]
  },
  {
   "cell_type": "code",
   "execution_count": null,
   "id": "4bce94ec-46b2-4a28-b102-9db87d9737eb",
   "metadata": {},
   "outputs": [],
   "source": [
    "# ikemental_array = []\n",
    "\n",
    "# urls = [\"https://www.amazon.co.jp/-/en/dp/B097JZDHSH/ref=sr_1_1?crid=1DS1266GC3WB4&keywords=elemental&qid=1660492482&s=instant-video&sprefix=ikement%2Cinstant-video%2C251&sr=1-1n\",]\n",
    "\n",
    "# c = 0\n",
    "# for url in urls:\n",
    "#     c = c+1\n",
    "#     time.sleep(3)\n",
    "#     print(url)\n",
    "#     html = requests.get(url).content\n",
    "#     data = BeautifulSoup(html, 'html.parser')\n",
    "\n",
    "#     greplist = data.find_all(\"ol\")[0]\n",
    "#     greplistitem = greplist.find_all(\"li\")\n",
    "\n",
    "#     for episode in greplistitem:\n",
    "#         name = episode.find_all(\"span\",attrs={\"dir\":\"auto\"})[0].text\n",
    "        \n",
    "#         description = episode.find_all(\"div\",attrs={\"dir\":\"auto\"})[0].text\n",
    "        \n",
    "#         metadata = episode.find_all(\"div\",attrs={\"class\":\"_3rBDNv _1AeKJC\"})[0]\n",
    "#         metadata_field = metadata.find_all(\"div\")\n",
    "#         date = metadata_field[0].text\n",
    "#         duration = metadata_field[1].text\n",
    "        \n",
    "#         ikemental_array.append([date, name, description, c])\n",
    "\n",
    "# metadata_ikemental = pd.DataFrame(ikemental_array[::1], columns=['date','name', 'description_ja','season']).replace(r'\\n',' ', regex=True)\n",
    "\n",
    "metadata_ikemental= pd.read_csv('metadata_ikemental.csv')\n",
    "\n",
    "metadata_ikemental['name'] = metadata_ikemental['name']\n",
    "metadata_ikemental['episode'] = 'S0' + metadata_ikemental['season'].astype('str') + 'E0' + metadata_ikemental['name'].str[1]\n",
    "metadata_ikemental['episode'] = metadata_ikemental['episode'].str.replace('S010','S10')\n",
    "metadata_ikemental['date'] = pd.to_datetime(metadata_ikemental['date']).dt.strftime('%Y-%m-%d')\n",
    "metadata_ikemental['show_id'] = 'ikemental'\n",
    "metadata_ikemental['show'] = 'IKEMENTAL'\n",
    "metadata_ikemental['show_ja'] = 'イケメンタル'\n",
    "\n",
    "#metadata_ikemental.to_csv('metadata_ikemental.csv')\n",
    "metadata_ikemental"
   ]
  },
  {
   "cell_type": "markdown",
   "id": "dde85307-4a33-487a-a47d-4e4b5b833f2d",
   "metadata": {},
   "source": [
    "### JOSHIMENTAL"
   ]
  },
  {
   "cell_type": "code",
   "execution_count": null,
   "id": "aa7fd284-e08e-4e76-b147-297b8cdfd0f6",
   "metadata": {},
   "outputs": [],
   "source": [
    "# joshimental_array = []\n",
    "\n",
    "# urls = [\"https://www.amazon.co.jp/-/en/dp/B097JYQC2P/ref=sr_1_2?crid=20113A8JUHYO3&keywords=joshimental&qid=1660492739&s=instant-video&sprefix=joshiment%2Cinstant-video%2C279&sr=1-2\",\n",
    "#         \"https://www.amazon.co.jp/-/en/gp/video/detail/B097XHC3CJ/ref=atv_dp_season_select_s2?language=en\"]\n",
    "\n",
    "# c = 0\n",
    "# for url in urls:\n",
    "#     c = c+1\n",
    "#     time.sleep(3)\n",
    "#     print(url)\n",
    "#     html = requests.get(url).content\n",
    "#     data = BeautifulSoup(html, 'html.parser')\n",
    "\n",
    "#     greplist = data.find_all(\"ol\")[0]\n",
    "#     greplistitem = greplist.find_all(\"li\")\n",
    "\n",
    "#     for episode in greplistitem:\n",
    "#         name = episode.find_all(\"span\",attrs={\"dir\":\"auto\"})[0].text\n",
    "        \n",
    "#         description = episode.find_all(\"div\",attrs={\"dir\":\"auto\"})[0].text\n",
    "        \n",
    "#         metadata = episode.find_all(\"div\",attrs={\"class\":\"_3rBDNv _1AeKJC\"})[0]\n",
    "#         metadata_field = metadata.find_all(\"div\")\n",
    "#         date = metadata_field[0].text\n",
    "#         duration = metadata_field[1].text\n",
    "        \n",
    "#         joshimental_array.append([date, name, description, c])\n",
    "\n",
    "# metadata_joshimental = pd.DataFrame(joshimental_array[::1], columns=['date','name', 'description_ja','season']).replace(r'\\n',' ', regex=True)\n",
    "\n",
    "\n",
    "metadata_joshimental= pd.read_csv('metadata_joshimental.csv')\n",
    "\n",
    "metadata_joshimental['name'] = metadata_joshimental['name']\n",
    "metadata_joshimental['episode'] = 'S0' + metadata_joshimental['season'].astype('str') + 'E0' + metadata_joshimental['name'].str[1]\n",
    "metadata_joshimental['episode'] = metadata_joshimental['episode'].str.replace('S010','S10')\n",
    "metadata_joshimental['date'] = pd.to_datetime(metadata_joshimental['date']).dt.strftime('%Y-%m-%d')\n",
    "metadata_joshimental['show_id'] = 'joshimental'\n",
    "metadata_joshimental['show'] = 'JOSHIMENTAL'\n",
    "metadata_joshimental['show_ja'] = '女子メンタル'\n",
    "\n",
    "#metadata_joshimental.to_csv('metadata_joshimental.csv')\n",
    "metadata_joshimental"
   ]
  },
  {
   "attachments": {},
   "cell_type": "markdown",
   "id": "ceec7b95-20a3-4f55-9120-4b43561efb5d",
   "metadata": {},
   "source": [
    "### DOCUMENTAL"
   ]
  },
  {
   "cell_type": "raw",
   "id": "3da3de10-0891-4a81-8608-677c7d18fbb3",
   "metadata": {},
   "source": [
    "documental_array = []\n",
    "c = 0\n",
    "urls = [\"https://www.amazon.co.jp/-/en/gp/video/detail/B01N44CSBV/ref=atv_dp_season_select_s1?language=en\",\n",
    "      \"https://www.amazon.co.jp/-/en/gp/video/detail/B06ZYK4X61/ref=atv_dp_season_select_s2?language=en\",\n",
    "      \"https://www.amazon.co.jp/-/en/gp/video/detail/B0748KTV8T/ref=atv_dp_season_select_s3?language=en\",\n",
    "      \"https://www.amazon.co.jp/-/en/gp/video/detail/B077S8HD4X/ref=atv_dp_season_select_s4?language=en\",\n",
    "       \"https://www.amazon.co.jp/-/en/gp/video/detail/B07C4ZZCTJ/ref=atv_dp_season_select_s5?language=en\",\n",
    "       \"https://www.amazon.co.jp/-/en/gp/video/detail/B07K1J3SFN/ref=atv_dp_season_select_s6?language=en\",\n",
    "       \"https://www.amazon.co.jp/-/en/gp/video/detail/B07QKKGV9V/ref=atv_dp_season_select_s7?language=en\",\n",
    "       \"https://www.amazon.co.jp/-/en/gp/video/detail/B08DZRP5RZ/ref=atv_dp_season_select_s8?language=en\",\n",
    "       \"https://www.amazon.co.jp/-/en/gp/video/detail/B08VFTNV53/ref=atv_dp_season_select_s9?language=en\"]\n",
    "\n",
    "for url in urls:\n",
    "    c = c+1\n",
    "    time.sleep(3)\n",
    "    print(url)\n",
    "    html = requests.get(url).content\n",
    "    data = BeautifulSoup(html, 'html.parser')\n",
    "\n",
    "    greplist = data.find_all(\"ol\")[0]\n",
    "    greplistitem = greplist.find_all(\"li\")\n",
    "\n",
    "    for episode in greplistitem:\n",
    "        name = episode.find_all(\"span\",attrs={\"dir\":\"auto\"})[0].text\n",
    "        description = episode.find_all(\"div\",attrs={\"dir\":\"auto\"})[2].text\n",
    "        metadata = episode.find_all(\"div\",attrs={\"class\":\"_3rBDNv _1AeKJC\"})[0]\n",
    "        metadata_field = metadata.find_all(\"div\")\n",
    "        date = metadata_field[0].text\n",
    "        duration = metadata_field[1].text\n",
    "        documental_array.append([date, name, description,c])\n",
    "        \n",
    "time.sleep(2)\n",
    "print(\"https://www.amazon.co.jp/-/en/gp/video/detail/B09M78YBG9/ref=atv_dp_season_select_s10?language=en\")\n",
    "html = requests.get(\"https://www.amazon.co.jp/-/en/gp/video/detail/B09M78YBG9/ref=atv_dp_season_select_s10?language=en\").content\n",
    "data = BeautifulSoup(html, 'html.parser')\n",
    "\n",
    "greplist = data.find_all(\"ol\")[0]\n",
    "greplistitem = greplist.find_all(\"li\")\n",
    "\n",
    "for episode in greplistitem:\n",
    "    name = episode.find_all(\"span\",attrs={\"dir\":\"auto\"})[0].text\n",
    "    description = episode.find_all(\"div\",attrs={\"dir\":\"auto\"})[1].text\n",
    "    metadata = episode.find_all(\"div\",attrs={\"class\":\"_3rBDNv _1AeKJC\"})[0]\n",
    "    metadata_field = metadata.find_all(\"div\")\n",
    "    date = metadata_field[0].text\n",
    "    duration = metadata_field[1].text\n",
    "    documental_array.append([date, name, description,10])\n",
    "\n",
    "metadata_documental = pd.DataFrame(documental_array[::1], columns=['date','name', 'description_ja','season']).replace(r'\\n',' ', regex=True)\n",
    "metadata_documental.to_csv('metadata_documental_amazon.csv')"
   ]
  },
  {
   "cell_type": "code",
   "execution_count": null,
   "id": "04adea8c-89b8-4d1d-a1c0-9a4d5c755a5b",
   "metadata": {},
   "outputs": [],
   "source": [
    "metadata_documental = pd.read_csv('metadata_documental_amazon.csv',index_col=[0])\n",
    "\n",
    "metadata_documental['name'] = metadata_documental['name']\n",
    "metadata_documental['episode'] = 'S0' + metadata_documental['season'].astype('str') + 'E0' + metadata_documental['name'].str[1]\n",
    "metadata_documental['description_ja'] = metadata_documental['description_ja'].str.replace('(C)2019 YD Creation','')\n",
    "metadata_documental['episode'] = metadata_documental['episode'].str.replace('S010','S10')\n",
    "metadata_documental['date'] = pd.to_datetime(metadata_documental['date']).dt.strftime('%Y-%m-%d')\n",
    "metadata_documental['show_id'] = 'documental'\n",
    "metadata_documental['show'] = 'DOCUMENTAL'\n",
    "metadata_documental['show_ja'] = 'ドキュメンタル'\n",
    "\n",
    "#metadata_documental.to_csv('metadata_documental.csv')\n",
    "metadata_documental"
   ]
  },
  {
   "attachments": {},
   "cell_type": "markdown",
   "id": "0b6b76d3-653c-49ba-9205-31a7c34c0dc8",
   "metadata": {},
   "source": [
    "### SUIYOUBI NO DOWNTOWN"
   ]
  },
  {
   "cell_type": "code",
   "execution_count": null,
   "id": "5037de66",
   "metadata": {},
   "outputs": [],
   "source": [
    "metadata_suiyoubinodowntown = pd.read_csv('https://docs.google.com/spreadsheets/d/1V1vui4S3g1_nJYxuXVc12mH--LZBvC8IvZV5MOW9hwI/gviz/tq?tqx=out:csv&sheet=suiyobi')\n",
    "#metadata_suiyoubinodowntown.rename(columns={'ccturl':'cct_url'},inplace=True)\n",
    "metadata_suiyoubinodowntown['episode'] = metadata_suiyoubinodowntown['episode'].fillna(-55).astype(int)\n",
    "metadata_suiyoubinodowntown['episode'] = metadata_suiyoubinodowntown['episode'].astype('str').str.replace('-55','SP')\n",
    "#metadata_suiyoubinodowntown['metadata'] = 'Panelists: ' + metadata_suiyoubinodowntown['panelist_1'].mask(pd.isnull,'-') + ', ' + metadata_suiyoubinodowntown['panelist_2'].mask(pd.isnull,'-') + ', ' + metadata_suiyoubinodowntown['panelist_3'].mask(pd.isnull,'-') + ', ' + metadata_suiyoubinodowntown['panelist_4'].mask(pd.isnull,'-')+ ', ' + metadata_suiyoubinodowntown['panelist_5'].mask(pd.isnull,'-')\n",
    "metadata_suiyoubinodowntown['show_id'] = 'suiyoubinodowntown'\n",
    "metadata_suiyoubinodowntown['show'] = 'WEDNESDAY DOWNTOWN'\n",
    "metadata_suiyoubinodowntown['show_ja'] = '水曜日のダウンタウン'\n",
    "metadata_suiyoubinodowntown.to_csv('metadata_suiyoubinodowntown.csv')\n",
    "metadata_suiyoubinodowntown"
   ]
  },
  {
   "cell_type": "code",
   "execution_count": null,
   "id": "b49ff5e8-aec3-4203-81be-5000670d52f8",
   "metadata": {},
   "outputs": [],
   "source": [
    "metadata_suiyoubinodowntown = pd.concat([\n",
    "  pd.read_html('https://thetvdb.com/series/wednesdays-downtown/seasons/official/2014')[0],\n",
    "  pd.read_html('https://thetvdb.com/series/wednesdays-downtown/seasons/official/2015')[0],\n",
    "  pd.read_html('https://thetvdb.com/series/wednesdays-downtown/seasons/official/2016')[0],\n",
    "  pd.read_html('https://thetvdb.com/series/wednesdays-downtown/seasons/official/2017')[0],\n",
    "  pd.read_html('https://thetvdb.com/series/wednesdays-downtown/seasons/official/2018')[0],\n",
    "  pd.read_html('https://thetvdb.com/series/wednesdays-downtown/seasons/official/2019')[0],\n",
    "  pd.read_html('https://thetvdb.com/series/wednesdays-downtown/seasons/official/2020')[0],\n",
    "  pd.read_html('https://thetvdb.com/series/wednesdays-downtown/seasons/official/2021')[0],\n",
    "  pd.read_html('https://thetvdb.com/series/wednesdays-downtown/seasons/official/2022')[0],\n",
    "  pd.read_html('https://thetvdb.com/series/wednesdays-downtown/seasons/official/2023')[0]\n",
    "\n",
    "  ],axis=0)\n",
    "metadata_suiyoubinodowntown.rename({'Unnamed: 0':'episode','Name':'name_ja','First Aired':'date_and_channel','Runtime':'duration','Image':'image'},axis=1, inplace=True)\n",
    "metadata_suiyoubinodowntown['date'] = pd.to_datetime(metadata_suiyoubinodowntown['date_and_channel'].str.split(' T',expand=True)[0]).dt.strftime('%Y-%m-%d')\n",
    "metadata_suiyoubinodowntown = metadata_suiyoubinodowntown[['episode','date','name_ja']]\n",
    "metadata_suiyoubinodowntown['show_id'] = 'suiyoubinodowntown'\n",
    "metadata_suiyoubinodowntown['show'] = 'WEDNESDAY DOWNTOWN'\n",
    "metadata_suiyoubinodowntown['show_ja'] = '水曜日のダウンタウン'\n",
    "metadata_suiyoubinodowntown.to_csv('metadata_suiyoubinodowntown.csv')\n",
    "metadata_suiyoubinodowntown"
   ]
  },
  {
   "attachments": {},
   "cell_type": "markdown",
   "id": "74ccfc35-b504-4547-901b-2e7e06e86e2f",
   "metadata": {},
   "source": [
    "### GOTTSU A KANJI"
   ]
  },
  {
   "cell_type": "code",
   "execution_count": null,
   "id": "40663cd8-33f0-44ee-a544-05770084e4b7",
   "metadata": {},
   "outputs": [],
   "source": [
    "metadata_gottsueekanji = pd.read_csv('metadata_gottsueekanji.csv')\n",
    "metadata_gottsueekanji['date'] = metadata_gottsueekanji['Date'].str.replace('/','-')\n",
    "metadata_gottsueekanji['episode'] = metadata_gottsueekanji['Episode'].str.replace('#','').str.lstrip('0')\n",
    "metadata_gottsueekanji['description_ja'] = metadata_gottsueekanji['Content'].str.replace('#','').str.lstrip('0')\n",
    "metadata_gottsueekanji = metadata_gottsueekanji[['date','episode','description_ja']]\n",
    "metadata_gottsueekanji['show_id'] = 'gottsueekanji'\n",
    "metadata_gottsueekanji['show'] = 'GOTTSU A KANJI'\n",
    "metadata_gottsueekanji['show_ja'] = 'ダウンタウンのごっつええ感じ'\n",
    "metadata_gottsueekanji"
   ]
  },
  {
   "attachments": {},
   "cell_type": "markdown",
   "id": "10db0c14-9e6b-4fb6-98ce-006e84374ce6",
   "metadata": {},
   "source": [
    "### ASHITA GA ARU SA"
   ]
  },
  {
   "cell_type": "code",
   "execution_count": null,
   "id": "2d8e2ffa-774f-46cc-a2fc-83826a500041",
   "metadata": {},
   "outputs": [],
   "source": [
    "metadata_ashitagaarusa = pd.read_csv('metadata_ashitagaarusa.csv')\n",
    "metadata_ashitagaarusa['show_id'] = 'ashitagaarusa'\n",
    "metadata_ashitagaarusa['show'] = 'ASHITA GA ARU SA'\n",
    "metadata_ashitagaarusa['show_ja'] = '明日があるさ'\n",
    "metadata_ashitagaarusa"
   ]
  },
  {
   "cell_type": "markdown",
   "id": "06eb2d75-3bf2-48b7-8869-21ff69d39fc3",
   "metadata": {},
   "source": [
    "### LINCOLN"
   ]
  },
  {
   "cell_type": "code",
   "execution_count": null,
   "id": "d87e9c38-0e50-402b-814c-657c3f7c8667",
   "metadata": {},
   "outputs": [],
   "source": [
    "metadata_lincoln = pd.read_csv('metadata_lincoln.csv')[['date','episode']]\n",
    "metadata_lincoln['show_id'] = 'lincoln'\n",
    "metadata_lincoln['show'] = 'LINCOLN'\n",
    "metadata_lincoln['show_ja'] = 'リンカーン'\n",
    "metadata_lincoln"
   ]
  },
  {
   "cell_type": "markdown",
   "id": "dc4aa32b-a4fa-4a5c-8432-3b5c9ac70705",
   "metadata": {},
   "source": [
    "### WORLD DOWNTOWN"
   ]
  },
  {
   "cell_type": "code",
   "execution_count": null,
   "id": "8489d833-59d2-4705-9167-b0010695f833",
   "metadata": {},
   "outputs": [],
   "source": [
    "metadata_worlddowntown = pd.read_csv('metadata_worlddowntown.csv')[['date','episode']]\n",
    "metadata_worlddowntown['show_id'] = 'worlddowntown'\n",
    "metadata_worlddowntown['show'] = 'WORLD DOWNTOWN'\n",
    "metadata_worlddowntown['show_ja'] = 'ワールド・ダウンタウン'\n",
    "metadata_worlddowntown"
   ]
  },
  {
   "attachments": {},
   "cell_type": "markdown",
   "id": "23d317bb-b2c1-4c95-8dbf-4744f8570112",
   "metadata": {
    "tags": []
   },
   "source": [
    "## Combination"
   ]
  },
  {
   "cell_type": "code",
   "execution_count": null,
   "id": "ab4ca0c7",
   "metadata": {},
   "outputs": [],
   "source": [
    "cct_index = pd.read_csv('cct_index.csv', index_col = 0)\n",
    "cct_index = cct_index.sort_values(['cct_id','language'])\n",
    "cct_index.drop_duplicates(subset='cct_id', keep='first', inplace=True, ignore_index=True)\n",
    "cct_index['subspath'] = cct_index['cct_id'] + '_en.' + cct_index['sub_format']\n",
    "cct_index.loc[cct_index['sub_format'].notnull()]\n",
    "files_uploaded = cct_index.loc[cct_index['uploaded'] == True]\n",
    "files_uploaded_map_cctid_permalink = dict(zip(files_uploaded['cct_id'].astype('str'),files_uploaded['permalink'].astype('str') ))\n",
    "files_uploaded_map_cctid_peertubeindex = dict(zip(files_uploaded['cct_id'].astype('str'),files_uploaded['channel'] + '-' + files_uploaded['permalink'].astype('str') ))\n",
    "files_uploaded_map_cctid_name_en = dict(zip(files_uploaded['cct_id'].astype('str'),files_uploaded['name_en'].astype('str') ))\n",
    "files_uploaded_map_cctid_subspath = dict(zip(files_uploaded.loc[files_uploaded['subspath'].notna(),'cct_id'].astype('str'),files_uploaded.loc[files_uploaded['subspath'].notna(),'subspath'].astype('str') ))\n",
    "list(cct_index.columns)\n",
    "\n",
    "cct_index[['cct_id','permalink','subspath']]"
   ]
  },
  {
   "cell_type": "code",
   "execution_count": null,
   "id": "ee8b8ead",
   "metadata": {},
   "outputs": [],
   "source": [
    "cct_index.loc[cct_index['subspath'].notnull()]"
   ]
  },
  {
   "cell_type": "code",
   "execution_count": null,
   "id": "6433a2f9-e3c3-4491-9945-e066a0bfd900",
   "metadata": {},
   "outputs": [],
   "source": [
    "metadata_all = pd.concat([\n",
    "    metadata_gakinotsukai,\n",
    "    metadata_knightscoop,\n",
    "    metadata_gottsueekanji,\n",
    "    metadata_freeze,\n",
    "    metadata_documental,\n",
    "    metadata_documentaryofdocumental,\n",
    "    metadata_ikemental,\n",
    "    metadata_joshimental,\n",
    "    metadata_suiyoubinodowntown,\n",
    "    metadata_ashitagaarusa,\n",
    "    metadata_mhk,\n",
    "    metadata_visualbum,\n",
    "    metadata_lincoln,\n",
    "    metadata_worlddowntown],ignore_index=True)\n",
    "\n",
    "metadata_all['segment'] = metadata_all['segment'].fillna(0).astype('int')\n",
    "metadata_all.loc[(metadata_all['segment'] == 1) & (metadata_all['show_id'] != 'knightscoop')& (metadata_all['show_id'] != 'suiyoubinodowntown'), 'segment'] = 0\n",
    "\n",
    "metadata_all['cct_id'] = metadata_all['show_id'] +'_'+ metadata_all['date'].str.replace('-','') +'_'+ metadata_all['episode'].astype('str') +'_'+ metadata_all['segment'].astype('str')\n",
    "\n",
    "metadata_all['name_en'] = metadata_all['cct_id'].map(files_uploaded_map_cctid_name_en)\n",
    "metadata_all['cct_permalink'] = metadata_all['cct_id'].map(files_uploaded_map_cctid_permalink)\n",
    "metadata_all['subtitle'] = metadata_all['cct_id'].map(files_uploaded_map_cctid_subspath)\n",
    "\n",
    "metadata_all.loc[metadata_all['cct_permalink'].str[-2:] == 'en','subbed'] = True\n",
    "metadata_all.loc[metadata_all['subbed'] != True,'subbed'] = ''\n",
    "\n",
    "metadata_all.loc[metadata_all['cct_permalink'].notnull(),'cct_url'] = 'https://chikichiki.tube/'+ metadata_all['show_id'] + '/video/' + metadata_all['cct_permalink'].str.lower()\n",
    "\n",
    "metadata_all.loc[metadata_all['subtitle'] != '','subs_url'] = 'https://raw.githubusercontent.com/chikichikitube/subtitles/main/subtitles/'+ metadata_all['subtitle']\n",
    "\n",
    "metadata_all.loc[(metadata_all['subtitle'].isna()) & (metadata_all['subbed']== True),'subs_url'] = 'Hardsub'\n",
    "metadata_all['subs_url'].fillna('',inplace=True)\n",
    "\n",
    "metadata_all['peertubeindex'] = metadata_all['show_id'] + '-' +  metadata_all['cct_permalink'].str[:-3]\n",
    "\n",
    "# clean up columns\n",
    "metadata_db = metadata_all[[ 'cct_id','show_id','show','show_ja','date','episode','segment','subbed','name_ja','name_en','description_ja','metadata','cct_permalink','cct_url','subs_url']]\n",
    "\n",
    "metadata_db['cct_link'] = '<a href=\"' + metadata_db['cct_url'] + '\">VTR</a>'\n",
    "# metadata_db['subs_link'] = '<a href=\"' + metadata_db['subs_url'] + '\">Subs</a>'\n",
    "metadata_db.loc[(metadata_db['subs_url'] != 'Hardsub')& (metadata_db['subbed']== True),'subs_link'] = '<a href=\"' + metadata_db['subs_url'] + '\">Softsub</a>'\n",
    "metadata_db.loc[(metadata_db['subs_url'] == 'Hardsub'),'subs_link'] = 'Hardsub'\n",
    "\n",
    "metadata_db.loc[metadata_db['cct_link'].isna(),'cct_link'] = ''\n",
    "metadata_db.loc[metadata_db['subs_link'].isna(),'subs_link'] = ''\n",
    "\n",
    "metadata_db['name_ja'].fillna('',inplace=True)\n",
    "metadata_db['name_en'].fillna('',inplace=True)\n",
    "metadata_db['name_en'] = metadata_db['name_en'].str.replace('nan','').str.replace('_720p','').str.replace('_1080p','')\n",
    "\n",
    "metadata_db['description_ja'].fillna('',inplace=True)\n",
    "metadata_db['metadata'].fillna('',inplace=True)\n",
    "\n",
    "# cct version (just for videos cct has)\n",
    "metadata_db['cct_index'] = metadata_db['show_id'] + '-' +  metadata_db['cct_permalink'].str[:-3]\n",
    "metadata_json = metadata_db.loc[metadata_db['cct_index'].notnull()]\n",
    "with open('../metadata.json', 'w', encoding='utf-8') as file:\n",
    "    metadata_json.to_json(file, orient='records', force_ascii=False)\n",
    "with open('../metadata_index.json', 'w', encoding='utf-8') as file:\n",
    "    metadata_json.set_index('cct_index').to_json(file, orient='index', force_ascii=False)\n",
    "metadata_db.to_csv('../metadata.csv',index=False)\n",
    "\n",
    "metadata_db"
   ]
  },
  {
   "cell_type": "code",
   "execution_count": 53,
   "id": "e9272b96",
   "metadata": {},
   "outputs": [
    {
     "name": "stdout",
     "output_type": "stream",
     "text": [
      "2.6.0\n"
     ]
    },
    {
     "data": {
      "text/plain": [
       "8765"
      ]
     },
     "execution_count": 53,
     "metadata": {},
     "output_type": "execute_result"
    }
   ],
   "source": [
    "import sqlite3\n",
    "from sqlite3 import Error\n",
    "\n",
    "def create_connection(db_file):\n",
    "    \"\"\" create a database connection to a SQLite database \"\"\"\n",
    "    conn = None\n",
    "    try:\n",
    "        conn = sqlite3.connect(db_file)\n",
    "        print(sqlite3.version)\n",
    "    except Error as e:\n",
    "        print(e)\n",
    "    finally:\n",
    "        if conn:\n",
    "            conn.close()\n",
    "\n",
    "if __name__ == '__main__':\n",
    "    create_connection(r\"../metadata.db\")\n",
    "\n",
    "con = sqlite3.connect('../metadata.db') #not working\n",
    "\n",
    "metadata_db.to_sql('metadata', con)"
   ]
  },
  {
   "cell_type": "code",
   "execution_count": null,
   "id": "158c4d31",
   "metadata": {},
   "outputs": [],
   "source": [
    "metadata_db.loc[metadata_db['name_en'].isna()]"
   ]
  },
  {
   "cell_type": "code",
   "execution_count": null,
   "id": "9efc8739",
   "metadata": {},
   "outputs": [],
   "source": [
    "metadata_db.loc[metadata_db['name_en'] == 'nan']"
   ]
  }
 ],
 "metadata": {
  "jupytext": {
   "formats": "ipynb,Rmd"
  },
  "kernelspec": {
   "display_name": "base",
   "language": "python",
   "name": "python3"
  },
  "language_info": {
   "codemirror_mode": {
    "name": "ipython",
    "version": 3
   },
   "file_extension": ".py",
   "mimetype": "text/x-python",
   "name": "python",
   "nbconvert_exporter": "python",
   "pygments_lexer": "ipython3",
   "version": "3.8.13"
  },
  "vscode": {
   "interpreter": {
    "hash": "31aae34752a978bdb944168eb912c6ca95e8cf6b7e5747bff3d25b590ab6a319"
   }
  }
 },
 "nbformat": 4,
 "nbformat_minor": 5
}
